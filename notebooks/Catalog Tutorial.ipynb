{
 "cells": [
  {
   "cell_type": "markdown",
   "id": "3075cb24-8ac3-4c1d-a47c-1499a7c46821",
   "metadata": {},
   "source": [
    "# Catalog Comparisons"
   ]
  },
  {
   "cell_type": "code",
   "execution_count": 1,
   "id": "a11bac2a-a058-41c2-b8ff-a0920c0ed7df",
   "metadata": {},
   "outputs": [],
   "source": [
    "import pandas as pd\n",
    "import geopandas as gpd\n",
    "import rioxarray as rxr\n",
    "\n",
    "from gval.catalogs.catalogs import catalog_compare"
   ]
  },
  {
   "cell_type": "markdown",
   "id": "837f6d52-5395-4ee8-b929-557e37b7bf74",
   "metadata": {},
   "source": [
    "## Initializing Catalogs"
   ]
  },
  {
   "cell_type": "markdown",
   "id": "e52648d3-09b4-4db2-9399-56f9eeb941c6",
   "metadata": {},
   "source": [
    "The cataloging functionality was designed to easily facilitate batch comparisons of maps residing locally, in a service, or in the cloud.  The format of such catalogs are as follows:"
   ]
  },
  {
   "cell_type": "code",
   "execution_count": 2,
   "id": "b66eca6a-007f-42d2-a476-054b70c2395c",
   "metadata": {},
   "outputs": [],
   "source": [
    "TEST_DATA_DIR = './'\n",
    "\n",
    "candidate_catalogs = [pd.read_csv(f'{TEST_DATA_DIR}candidate_catalog_{x}.csv') for x in range(2)]\n",
    "benchmark_catalogs = [pd.read_csv(f'{TEST_DATA_DIR}benchmark_catalog_{x}.csv') for x in range(2)]"
   ]
  },
  {
   "cell_type": "code",
   "execution_count": 3,
   "id": "f09a9c91-8bc4-41bc-b11a-733412ba091d",
   "metadata": {},
   "outputs": [
    {
     "data": {
      "text/html": [
       "<div>\n",
       "<style scoped>\n",
       "    .dataframe tbody tr th:only-of-type {\n",
       "        vertical-align: middle;\n",
       "    }\n",
       "\n",
       "    .dataframe tbody tr th {\n",
       "        vertical-align: top;\n",
       "    }\n",
       "\n",
       "    .dataframe thead th {\n",
       "        text-align: right;\n",
       "    }\n",
       "</style>\n",
       "<table border=\"1\" class=\"dataframe\">\n",
       "  <thead>\n",
       "    <tr style=\"text-align: right;\">\n",
       "      <th></th>\n",
       "      <th>Unnamed: 0</th>\n",
       "      <th>map_id</th>\n",
       "      <th>compare_id</th>\n",
       "      <th>value1</th>\n",
       "      <th>value2</th>\n",
       "      <th>agreement_maps</th>\n",
       "    </tr>\n",
       "  </thead>\n",
       "  <tbody>\n",
       "    <tr>\n",
       "      <th>0</th>\n",
       "      <td>0</td>\n",
       "      <td>./candidate_categorical_0.tif</td>\n",
       "      <td>compare1</td>\n",
       "      <td>1</td>\n",
       "      <td>5</td>\n",
       "      <td>agreement_categorical_0.tif</td>\n",
       "    </tr>\n",
       "    <tr>\n",
       "      <th>1</th>\n",
       "      <td>1</td>\n",
       "      <td>./candidate_categorical_1.tif</td>\n",
       "      <td>compare2</td>\n",
       "      <td>2</td>\n",
       "      <td>6</td>\n",
       "      <td>agreement_categorical_1.tif</td>\n",
       "    </tr>\n",
       "  </tbody>\n",
       "</table>\n",
       "</div>"
      ],
      "text/plain": [
       "   Unnamed: 0                         map_id compare_id  value1  value2  \\\n",
       "0           0  ./candidate_categorical_0.tif   compare1       1       5   \n",
       "1           1  ./candidate_categorical_1.tif   compare2       2       6   \n",
       "\n",
       "                agreement_maps  \n",
       "0  agreement_categorical_0.tif  \n",
       "1  agreement_categorical_1.tif  "
      ]
     },
     "execution_count": 3,
     "metadata": {},
     "output_type": "execute_result"
    }
   ],
   "source": [
    "candidate_catalogs[1]"
   ]
  },
  {
   "cell_type": "code",
   "execution_count": 4,
   "id": "b6d7e5f7-27a6-43e2-b5f3-e5b2b14de84a",
   "metadata": {},
   "outputs": [],
   "source": [
    "on = [\"compare_id\"] * 2\n",
    "map_ids = [\"map_id\", \"map_id\"]\n",
    "how = [\"inner\"] * 2\n",
    "compare_type = [\"continuous\"] + [\"categorical\"] \n",
    "dask = [False, False]\n",
    "\n",
    "compare_kwargs = [\n",
    "    {\n",
    "        \"metrics\": (\n",
    "            \"coefficient_of_determination\",\n",
    "            \"mean_absolute_error\",\n",
    "            \"mean_absolute_percentage_error\",\n",
    "        ),\n",
    "        \"encode_nodata\": True,\n",
    "        \"nodata\": -9999,\n",
    "    },\n",
    "    {\n",
    "        \"metrics\": (\n",
    "            \"critical_success_index\",\n",
    "            \"true_positive_rate\",\n",
    "            \"positive_predictive_value\",\n",
    "        ),\n",
    "        \"encode_nodata\": True,\n",
    "        \"nodata\": -9999,\n",
    "        \"positive_categories\": 2,\n",
    "    }\n",
    "]\n",
    "\n",
    "open_kwargs = [{\"mask_and_scale\": True, \"masked\": True}] * 4\n",
    "agreement_map_field = [\"agreement_maps\"] * 4"
   ]
  },
  {
   "cell_type": "code",
   "execution_count": 39,
   "id": "ff9acaca-e21b-47f8-9589-69838578b07b",
   "metadata": {},
   "outputs": [
    {
     "ename": "AttributeError",
     "evalue": "'list' object has no attribute 'merge'",
     "output_type": "error",
     "traceback": [
      "\u001b[0;31m---------------------------------------------------------------------------\u001b[0m",
      "\u001b[0;31mAttributeError\u001b[0m                            Traceback (most recent call last)",
      "Cell \u001b[0;32mIn[39], line 1\u001b[0m\n\u001b[0;32m----> 1\u001b[0m agreement_catalog \u001b[38;5;241m=\u001b[39m \u001b[43mcatalog_compare\u001b[49m\u001b[43m(\u001b[49m\n\u001b[1;32m      2\u001b[0m \u001b[43m        \u001b[49m\u001b[43mcandidate_catalogs\u001b[49m\u001b[43m,\u001b[49m\n\u001b[1;32m      3\u001b[0m \u001b[43m        \u001b[49m\u001b[43mbenchmark_catalogs\u001b[49m\u001b[43m,\u001b[49m\n\u001b[1;32m      4\u001b[0m \u001b[43m        \u001b[49m\u001b[43mon\u001b[49m\u001b[38;5;241;43m=\u001b[39;49m\u001b[43mon\u001b[49m\u001b[43m,\u001b[49m\n\u001b[1;32m      5\u001b[0m \u001b[43m        \u001b[49m\u001b[43mmap_ids\u001b[49m\u001b[38;5;241;43m=\u001b[39;49m\u001b[43mmap_ids\u001b[49m\u001b[43m,\u001b[49m\n\u001b[1;32m      6\u001b[0m \u001b[43m        \u001b[49m\u001b[43mhow\u001b[49m\u001b[38;5;241;43m=\u001b[39;49m\u001b[43mhow\u001b[49m\u001b[43m,\u001b[49m\n\u001b[1;32m      7\u001b[0m \u001b[43m        \u001b[49m\u001b[43mcompare_type\u001b[49m\u001b[38;5;241;43m=\u001b[39;49m\u001b[43mcompare_type\u001b[49m\u001b[43m,\u001b[49m\n\u001b[1;32m      8\u001b[0m \u001b[43m        \u001b[49m\u001b[43mcompare_kwargs\u001b[49m\u001b[38;5;241;43m=\u001b[39;49m\u001b[43mcompare_kwargs\u001b[49m\u001b[43m,\u001b[49m\n\u001b[1;32m      9\u001b[0m \u001b[43m        \u001b[49m\u001b[43mopen_kwargs\u001b[49m\u001b[38;5;241;43m=\u001b[39;49m\u001b[43mopen_kwargs\u001b[49m\u001b[43m,\u001b[49m\n\u001b[1;32m     10\u001b[0m \u001b[43m        \u001b[49m\u001b[43magreement_map_field\u001b[49m\u001b[38;5;241;43m=\u001b[39;49m\u001b[43magreement_map_field\u001b[49m\u001b[43m,\u001b[49m\n\u001b[1;32m     11\u001b[0m \u001b[43m    \u001b[49m\u001b[43m)\u001b[49m\n",
      "File \u001b[0;32m~/anaconda3/envs/gval/lib/python3.10/site-packages/gval/catalogs/catalogs.py:96\u001b[0m, in \u001b[0;36mcatalog_compare\u001b[0;34m(candidate_catalog, benchmark_catalog, map_ids, how, on, left_on, right_on, suffixes, merge_kwargs, open_kwargs, compare_type, compare_kwargs, agreement_map_field, agreement_map_write_kwargs)\u001b[0m\n\u001b[1;32m     93\u001b[0m     merge_kwargs \u001b[38;5;241m=\u001b[39m \u001b[38;5;28mdict\u001b[39m()\n\u001b[1;32m     95\u001b[0m \u001b[38;5;66;03m# create agreement catalog\u001b[39;00m\n\u001b[0;32m---> 96\u001b[0m agreement_catalog \u001b[38;5;241m=\u001b[39m \u001b[43mcandidate_catalog\u001b[49m\u001b[38;5;241;43m.\u001b[39;49m\u001b[43mmerge\u001b[49m(\n\u001b[1;32m     97\u001b[0m     benchmark_catalog,\n\u001b[1;32m     98\u001b[0m     how\u001b[38;5;241m=\u001b[39mhow,\n\u001b[1;32m     99\u001b[0m     on\u001b[38;5;241m=\u001b[39mon,\n\u001b[1;32m    100\u001b[0m     left_on\u001b[38;5;241m=\u001b[39mleft_on,\n\u001b[1;32m    101\u001b[0m     right_on\u001b[38;5;241m=\u001b[39mright_on,\n\u001b[1;32m    102\u001b[0m     suffixes\u001b[38;5;241m=\u001b[39msuffixes,\n\u001b[1;32m    103\u001b[0m     \u001b[38;5;241m*\u001b[39m\u001b[38;5;241m*\u001b[39mmerge_kwargs,\n\u001b[1;32m    104\u001b[0m )\n\u001b[1;32m    106\u001b[0m \u001b[38;5;28;01mdef\u001b[39;00m \u001b[38;5;21mcompare_row\u001b[39m(\n\u001b[1;32m    107\u001b[0m     row,\n\u001b[1;32m    108\u001b[0m     compare_type: \u001b[38;5;28mstr\u001b[39m \u001b[38;5;241m|\u001b[39m Callable,\n\u001b[0;32m   (...)\u001b[0m\n\u001b[1;32m    112\u001b[0m     agreement_map_write_kwargs: \u001b[38;5;28mdict\u001b[39m,\n\u001b[1;32m    113\u001b[0m ) \u001b[38;5;241m-\u001b[39m\u001b[38;5;241m>\u001b[39m Tuple[xr\u001b[38;5;241m.\u001b[39mDataArray \u001b[38;5;241m|\u001b[39m xr\u001b[38;5;241m.\u001b[39mDataset, pd\u001b[38;5;241m.\u001b[39mDataFrame]:\n\u001b[1;32m    114\u001b[0m \u001b[38;5;250m    \u001b[39m\u001b[38;5;124;03m\"\"\"Compares catalog and benchmark maps by rows\"\"\"\u001b[39;00m\n",
      "\u001b[0;31mAttributeError\u001b[0m: 'list' object has no attribute 'merge'"
     ]
    }
   ],
   "source": [
    "agreement_catalog = catalog_compare(\n",
    "        candidate_catalogs,\n",
    "        benchmark_catalogs,\n",
    "        on=on,\n",
    "        map_ids=map_ids,\n",
    "        how=how,\n",
    "        compare_type=compare_type,\n",
    "        compare_kwargs=compare_kwargs,\n",
    "        open_kwargs=open_kwargs,\n",
    "        agreement_map_field=agreement_map_field,\n",
    "    )"
   ]
  },
  {
   "cell_type": "code",
   "execution_count": null,
   "id": "076740a8-ddc5-44e9-878d-e26622b503bd",
   "metadata": {},
   "outputs": [],
   "source": []
  }
 ],
 "metadata": {
  "kernelspec": {
   "display_name": "Python 3 (ipykernel)",
   "language": "python",
   "name": "python3"
  },
  "language_info": {
   "codemirror_mode": {
    "name": "ipython",
    "version": 3
   },
   "file_extension": ".py",
   "mimetype": "text/x-python",
   "name": "python",
   "nbconvert_exporter": "python",
   "pygments_lexer": "ipython3",
   "version": "3.10.10"
  }
 },
 "nbformat": 4,
 "nbformat_minor": 5
}
