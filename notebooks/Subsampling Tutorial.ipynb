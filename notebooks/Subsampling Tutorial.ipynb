{
 "cells": [
  {
   "cell_type": "markdown",
   "id": "02838b30",
   "metadata": {},
   "source": [
    "# Subsampling Comparisons"
   ]
  },
  {
   "cell_type": "code",
   "execution_count": 23,
   "id": "f194294a",
   "metadata": {},
   "outputs": [
    {
     "name": "stdout",
     "output_type": "stream",
     "text": [
      "time.struct_time(tm_year=2023, tm_mon=9, tm_mday=20, tm_hour=11, tm_min=22, tm_sec=3, tm_wday=2, tm_yday=263, tm_isdst=1)\n"
     ]
    }
   ],
   "source": [
    "import xarray as xr\n",
    "import rioxarray as rxr\n",
    "import gval\n",
    "from gval import CatStats\n",
    "import pandas as pd\n",
    "import numpy as np\n",
    "import dask\n",
    "import geopandas as gpd\n",
    "from gval.utils.schemas import SubsamplingDf, Sample_identifiers, Subsample_identifiers\n",
    "from geocube.api.core import make_geocube\n",
    "import flox\n",
    "from flox.xarray import xarray_reduce\n",
    "from shapely.geometry import Point\n",
    "from typing import Union\n",
    "from gval.comparison.pairing_functions import difference\n",
    "import dask as da\n",
    "import time\n",
    "print(time.localtime())\n",
    "import pickle"
   ]
  },
  {
   "cell_type": "markdown",
   "id": "9e88210f",
   "metadata": {},
   "source": [
    "## Create Subsampling DataFrame"
   ]
  },
  {
   "cell_type": "markdown",
   "id": "cc3eee3c",
   "metadata": {},
   "source": [
    "Let's open up a geopackage with polygons to use for subsampling:"
   ]
  },
  {
   "cell_type": "code",
   "execution_count": 45,
   "id": "806c8988",
   "metadata": {},
   "outputs": [],
   "source": [
    "from IPython.core.interactiveshell import InteractiveShell\n",
    "InteractiveShell.ast_node_interactivity = \"all\"\n",
    "import sys\n",
    "import numpy\n",
    "numpy.set_printoptions(threshold=sys.maxsize)\n",
    "pd.set_option('display.max_columns', None)\n",
    "pd.set_option('display.max_rows', None)\n",
    "from shapely.geometry import Polygon"
   ]
  },
  {
   "cell_type": "code",
   "execution_count": 41,
   "id": "65bee66c",
   "metadata": {},
   "outputs": [
    {
     "data": {
      "text/plain": [
       "'                                                                                                                             geometry\\n0                      POLYGON ((-97.72375 29.56328, -97.72304 29.55858, -97.71574 29.55874, -97.72038 29.56409, -97.72375 29.56328))\\n1  POLYGON ((-97.71604 29.55635, -97.71587 29.55196, -97.71131 29.55277, -97.71180 29.55519, -97.71267 29.55619, -97.71604 29.55635))'"
      ]
     },
     "execution_count": 41,
     "metadata": {},
     "output_type": "execute_result"
    }
   ],
   "source": [
    "data_path = '../data/data'\n",
    "# polygons_include = gpd.read_file(f'{data_path}/subsample_continuous_polygons.gpkg')\n",
    "# polygons_include.to_string()"
   ]
  },
  {
   "cell_type": "code",
   "execution_count": 42,
   "id": "9b49c18d",
   "metadata": {},
   "outputs": [
    {
     "data": {
      "text/plain": [
       "{'geometry': {0: <POLYGON ((-97.724 29.563, -97.723 29.559, -97.716 29.559, -97.72 29.564, -9...>,\n",
       "  1: <POLYGON ((-97.716 29.556, -97.716 29.552, -97.711 29.553, -97.712 29.555, -...>}}"
      ]
     },
     "execution_count": 42,
     "metadata": {},
     "output_type": "execute_result"
    }
   ],
   "source": [
    "polygons_include.to_dict()"
   ]
  },
  {
   "cell_type": "code",
   "execution_count": 59,
   "id": "15b6f3e6",
   "metadata": {},
   "outputs": [],
   "source": [
    "polygons_continuous = gpd.GeoDataFrame({'geometry': \n",
    "                      {0: Polygon([(-97.72375, 29.56328), (-97.72304, 29.55858), (-97.71574, 29.55874), (-97.72038, 29.56409), (-97.72375, 29.56328)]),\n",
    "                       1: Polygon([(-97.71604, 29.55635), (-97.71587, 29.55196), (-97.71131, 29.55277), (-97.71180, 29.55519), (-97.71267, 29.55619), (-97.71604, 29.55635)])}})\n",
    "polygons_continuous.crs = 'EPSG:4326'"
   ]
  },
  {
   "cell_type": "code",
   "execution_count": 60,
   "id": "d6d7012d",
   "metadata": {},
   "outputs": [],
   "source": [
    "polygons_categorical = gpd.GeoDataFrame({'geometry': \n",
    "                      {0: Polygon([(-97.56735, 30.07450), (-97.51800, 29.96872), (-97.29514, 29.97237), (-97.36734, 30.04412), (-97.44813, 30.06807), (-97.56735, 30.07450)]),\n",
    "                       1: Polygon([(-97.21658, 30.07011), (-97.20986, 29.95981), (-97.11101, 29.93847), (-97.12969, 30.07781), (-97.21658, 30.07011)])}})\n",
    "polygons_categorical.crs = 'EPSG:4326'"
   ]
  },
  {
   "cell_type": "code",
   "execution_count": 57,
   "id": "a751b50e",
   "metadata": {},
   "outputs": [
    {
     "data": {
      "text/html": [
       "<div>\n",
       "<style scoped>\n",
       "    .dataframe tbody tr th:only-of-type {\n",
       "        vertical-align: middle;\n",
       "    }\n",
       "\n",
       "    .dataframe tbody tr th {\n",
       "        vertical-align: top;\n",
       "    }\n",
       "\n",
       "    .dataframe thead th {\n",
       "        text-align: right;\n",
       "    }\n",
       "</style>\n",
       "<table border=\"1\" class=\"dataframe\">\n",
       "  <thead>\n",
       "    <tr style=\"text-align: right;\">\n",
       "      <th></th>\n",
       "      <th>geometry</th>\n",
       "    </tr>\n",
       "  </thead>\n",
       "  <tbody>\n",
       "    <tr>\n",
       "      <th>0</th>\n",
       "      <td>POLYGON ((-97.56735 30.07450, -97.51800 29.968...</td>\n",
       "    </tr>\n",
       "    <tr>\n",
       "      <th>1</th>\n",
       "      <td>POLYGON ((-97.21658 30.07011, -97.20986 29.959...</td>\n",
       "    </tr>\n",
       "  </tbody>\n",
       "</table>\n",
       "</div>"
      ],
      "text/plain": [
       "                                            geometry\n",
       "0  POLYGON ((-97.56735 30.07450, -97.51800 29.968...\n",
       "1  POLYGON ((-97.21658 30.07011, -97.20986 29.959..."
      ]
     },
     "execution_count": 57,
     "metadata": {},
     "output_type": "execute_result"
    }
   ],
   "source": [
    "b"
   ]
  },
  {
   "cell_type": "markdown",
   "id": "66ff0e64",
   "metadata": {},
   "source": [
    "To use this DataFrame as a subsampling DataFrame let's use `create_subsampling_df`:"
   ]
  },
  {
   "cell_type": "code",
   "execution_count": 3,
   "id": "ce38ccc5",
   "metadata": {},
   "outputs": [
    {
     "data": {
      "text/html": [
       "<div>\n",
       "<style scoped>\n",
       "    .dataframe tbody tr th:only-of-type {\n",
       "        vertical-align: middle;\n",
       "    }\n",
       "\n",
       "    .dataframe tbody tr th {\n",
       "        vertical-align: top;\n",
       "    }\n",
       "\n",
       "    .dataframe thead th {\n",
       "        text-align: right;\n",
       "    }\n",
       "</style>\n",
       "<table border=\"1\" class=\"dataframe\">\n",
       "  <thead>\n",
       "    <tr style=\"text-align: right;\">\n",
       "      <th></th>\n",
       "      <th>geometry</th>\n",
       "      <th>subsample_type</th>\n",
       "      <th>subsample_id</th>\n",
       "    </tr>\n",
       "  </thead>\n",
       "  <tbody>\n",
       "    <tr>\n",
       "      <th>0</th>\n",
       "      <td>POLYGON ((-97.72375 29.56328, -97.72304 29.558...</td>\n",
       "      <td>include</td>\n",
       "      <td>1</td>\n",
       "    </tr>\n",
       "    <tr>\n",
       "      <th>1</th>\n",
       "      <td>POLYGON ((-97.71604 29.55635, -97.71587 29.551...</td>\n",
       "      <td>include</td>\n",
       "      <td>2</td>\n",
       "    </tr>\n",
       "  </tbody>\n",
       "</table>\n",
       "</div>"
      ],
      "text/plain": [
       "                                            geometry subsample_type  \\\n",
       "0  POLYGON ((-97.72375 29.56328, -97.72304 29.558...        include   \n",
       "1  POLYGON ((-97.71604 29.55635, -97.71587 29.551...        include   \n",
       "\n",
       "   subsample_id  \n",
       "0             1  \n",
       "1             2  "
      ]
     },
     "execution_count": 3,
     "metadata": {},
     "output_type": "execute_result"
    }
   ],
   "source": [
    "# polygons_include.gval.create_subsampling_df(subsampling_type=[\"include\", \"include\"], inplace=True)\n",
    "# polygons_include"
   ]
  },
  {
   "cell_type": "markdown",
   "id": "53622649",
   "metadata": {},
   "source": [
    "The DataFrame above has a geometry column, a subsample type with the value of \"include\" (calculating data within the geometry) or \"exclude\" (remove all data contained within the geometry), and subsample_id.\n",
    "\n",
    "There is also the ability to add subsampling_weights:"
   ]
  },
  {
   "cell_type": "code",
   "execution_count": 74,
   "id": "6e330044",
   "metadata": {},
   "outputs": [],
   "source": [
    "polygons_continuous = polygons_continuous.gval.create_subsampling_df(subsampling_type=[\"exclude\", \"exclude\"], subsampling_weights=[2, 1])\n",
    "polygons_categorical = polygons_categorical.gval.create_subsampling_df(subsampling_type=[\"include\", \"include\"])"
   ]
  },
  {
   "cell_type": "markdown",
   "id": "17643850",
   "metadata": {},
   "source": [
    "## Continuous Compare Subsampling"
   ]
  },
  {
   "cell_type": "code",
   "execution_count": 5,
   "id": "13ba505a",
   "metadata": {},
   "outputs": [],
   "source": [
    "cds = rxr.open_rasterio(f'{data_path}/candidate_continuous_1.tif', band_as_variable=True, mask_and_scale=True)\n",
    "bds = rxr.open_rasterio(f'{data_path}/benchmark_continuous_1.tif', band_as_variable=True, mask_and_scale=True)"
   ]
  },
  {
   "cell_type": "markdown",
   "id": "0ce37657",
   "metadata": {},
   "source": [
    "Let's use this newly created subsampling df on a continuous comparison.  For each subsample an agreement map is created and then used to calculate continuous statistics. There are four subsampling-average types:\n",
    "\n",
    "1. <b>full-detail</b>: reports all metrics calculated on separate bands and subsamples.\n",
    "2. <b>band</b>: reports all metrics on subsamples with band values averaged.\n",
    "3. <b>subsample</b>: reports all metrics on bands with subsample values averaged.\n",
    "4. <b>weighted</b>: reports all metrics on bands with subsample values averaged and scaled by weights."
   ]
  },
  {
   "cell_type": "markdown",
   "id": "9396db4f",
   "metadata": {},
   "source": [
    "#### Full-Detail"
   ]
  },
  {
   "cell_type": "code",
   "execution_count": 62,
   "id": "8153c36a",
   "metadata": {},
   "outputs": [
    {
     "data": {
      "text/plain": [
       "{'subsample': {0: '1', 1: '1', 2: '2', 3: '2'},\n",
       " 'band': {0: '1', 1: '2', 2: '1', 3: '2'},\n",
       " 'mean_percentage_error': {0: 0.1259589046239853,\n",
       "  1: -0.11186813563108444,\n",
       "  2: 0.1671745926141739,\n",
       "  3: -0.1432301551103592}}"
      ]
     },
     "execution_count": 62,
     "metadata": {},
     "output_type": "execute_result"
    }
   ],
   "source": [
    "ag, met = cds.gval.continuous_compare(benchmark_map=bds,\n",
    "                                      metrics=[\"mean_percentage_error\"],\n",
    "                                     subsampling_df=polygons_continuous,\n",
    "                                     subsampling_average=\"full-detail\")\n",
    "met.to_dict()"
   ]
  },
  {
   "cell_type": "markdown",
   "id": "ae4cff36",
   "metadata": {},
   "source": [
    "#### Band"
   ]
  },
  {
   "cell_type": "code",
   "execution_count": 64,
   "id": "740f2f48",
   "metadata": {},
   "outputs": [
    {
     "data": {
      "text/plain": [
       "{'subsample': {0: '1', 1: '2'},\n",
       " 'band': {0: 'averaged', 1: 'averaged'},\n",
       " 'mean_percentage_error': {0: 0.007045384496450424, 1: 0.011972218751907349}}"
      ]
     },
     "execution_count": 64,
     "metadata": {},
     "output_type": "execute_result"
    }
   ],
   "source": [
    "ag, met = cds.gval.continuous_compare(benchmark_map=bds,\n",
    "                                      metrics=[\"mean_percentage_error\"],\n",
    "                                     subsampling_df=polygons_continuous,\n",
    "                                     subsampling_average=\"band\")\n",
    "met.to_dict()"
   ]
  },
  {
   "cell_type": "markdown",
   "id": "55001f1f",
   "metadata": {},
   "source": [
    "#### Subsample"
   ]
  },
  {
   "cell_type": "code",
   "execution_count": 78,
   "id": "ca0131f3",
   "metadata": {},
   "outputs": [
    {
     "data": {
      "text/plain": [
       "{'subsample': {0: 'averaged', 1: 'averaged'},\n",
       " 'band': {0: '1', 1: '2'},\n",
       " 'mean_percentage_error': {0: 0.1465667486190796, 1: -0.12754914537072182}}"
      ]
     },
     "execution_count": 78,
     "metadata": {},
     "output_type": "execute_result"
    }
   ],
   "source": [
    "ag, met = cds.gval.continuous_compare(benchmark_map=bds,\n",
    "                                      metrics=[\"mean_percentage_error\"],\n",
    "                                     subsampling_df=polygons_continuous,\n",
    "                                     subsampling_average=\"subsample\")\n",
    "met.to_dict()"
   ]
  },
  {
   "cell_type": "markdown",
   "id": "d067aff9",
   "metadata": {},
   "source": [
    "#### Weighted"
   ]
  },
  {
   "cell_type": "code",
   "execution_count": 67,
   "id": "b30d4794",
   "metadata": {},
   "outputs": [
    {
     "data": {
      "text/plain": [
       "{'subsample': {0: 'averaged', 1: 'averaged'},\n",
       " 'band': {0: '1', 1: '2'},\n",
       " 'mean_percentage_error': {0: 0.08397260308265686, 1: -0.037289378543694816}}"
      ]
     },
     "execution_count": 67,
     "metadata": {},
     "output_type": "execute_result"
    }
   ],
   "source": [
    "ag, met = cds.gval.continuous_compare(benchmark_map=bds,\n",
    "                                      metrics=[\"mean_percentage_error\"],\n",
    "                                      subsampling_df=polygons_continuous,\n",
    "                                      subsampling_average=\"weighted\")\n",
    "met.to_dict()"
   ]
  },
  {
   "cell_type": "markdown",
   "id": "68e1989d",
   "metadata": {},
   "source": [
    "## Categorical"
   ]
  },
  {
   "cell_type": "code",
   "execution_count": 53,
   "id": "13730e57",
   "metadata": {},
   "outputs": [],
   "source": [
    "# Subsampling DF\n",
    "polygons_exclude = gpd.read_file(f'{data_path}/subsample_two-class_polygons.gpkg')\n",
    "# polygons_exclude.gval.create_subsampling_df(subsampling_type=[\"exclude\", \"exclude\"], inplace=True)\n",
    "\n",
    "# Candidate and Benchmark\n",
    "cda = rxr.open_rasterio(f'{data_path}/candidate_map_multiband_two_class_categorical.tif', mask_and_scale=True)\n",
    "bda = rxr.open_rasterio(f'{data_path}/benchmark_map_multiband_two_class_categorical.tif', mask_and_scale=True)"
   ]
  },
  {
   "cell_type": "markdown",
   "id": "bbc7cf0c",
   "metadata": {},
   "source": [
    "Just as done earlier in continuous comparison, the following performs subsampling on categorical comparisons..  For each subsample an agreement map, a cross-tabulation table, and a metric table is created. There are three subsampling-average types:\n",
    "\n",
    "1. <b>full-detail</b>: reports all metrics calculated on separate bands and subsamples.\n",
    "2. <b>band</b>: reports all metrics on subsamples with band values averaged.\n",
    "3. <b>subsample</b>: reports all metrics on bands with subsample values averaged."
   ]
  },
  {
   "cell_type": "markdown",
   "id": "153376ef",
   "metadata": {},
   "source": [
    "#### Full-detail"
   ]
  },
  {
   "cell_type": "code",
   "execution_count": 75,
   "id": "910e7d59",
   "metadata": {},
   "outputs": [
    {
     "data": {
      "text/plain": [
       "{'band': {0: '1', 1: '1', 2: '2', 3: '2'},\n",
       " 'subsample': {0: '1', 1: '2', 2: '1', 3: '2'},\n",
       " 'fn': {0: 201956.0, 1: 182394.0, 2: 68241.0, 3: 58642.0},\n",
       " 'fp': {0: 761231.0, 1: 397538.0, 2: 43645.0, 3: 65969.0},\n",
       " 'tn': {0: 762262.0, 1: 398349.0, 2: 1479848.0, 3: 729918.0},\n",
       " 'tp': {0: 201946.0, 1: 181309.0, 2: 335661.0, 3: 305061.0},\n",
       " 'accuracy': {0: 0.5002648652715194,\n",
       "  1: 0.4998818547935046,\n",
       "  2: 0.9419496263090856,\n",
       "  3: 0.892538742141619},\n",
       " 'balanced_accuracy': {0: 0.5001629939598473,\n",
       "  1: 0.4995089463871429,\n",
       "  2: 0.9011988338571475,\n",
       "  3: 0.8779383258349349},\n",
       " 'critical_success_index': {0: 0.17332441875734358,\n",
       "  1: 0.23817555806899524,\n",
       "  2: 0.7500016758016477,\n",
       "  3: 0.7099857565771099},\n",
       " 'equitable_threat_score': {0: 0.00010804127698299228,\n",
       "  1: -0.0004229210476480578,\n",
       "  2: 0.6960116888476541,\n",
       "  3: 0.6022620032041349},\n",
       " 'f_score': {0: 0.2954415948163932,\n",
       "  1: 0.3847201739960745,\n",
       "  2: 0.8571439515428851,\n",
       "  3: 0.8303996145538584},\n",
       " 'false_discovery_rate': {0: 0.790333448576949,\n",
       "  1: 0.6867756073712051,\n",
       "  2: 0.11506540893104776,\n",
       "  3: 0.17779963884322023},\n",
       " 'false_negative_rate': {0: 0.5000123792405088,\n",
       "  1: 0.5014916016639951,\n",
       "  2: 0.16895435031269962,\n",
       "  3: 0.161235953511519},\n",
       " 'false_omission_rate': {0: 0.20945055993561623,\n",
       "  1: 0.3140700791916562,\n",
       "  2: 0.04408079897215212,\n",
       "  3: 0.07436593283960637},\n",
       " 'false_positive_rate': {0: 0.4996616328397964,\n",
       "  1: 0.4994905055617192,\n",
       "  2: 0.028647981973005457,\n",
       "  3: 0.08288739481861118},\n",
       " 'fowlkes_mallows_index': {0: 0.3237756633826248,\n",
       "  1: 0.39515185725129576,\n",
       "  2: 0.857566931595233,\n",
       "  3: 0.8304409081615326},\n",
       " 'matthews_correlation_coefficient': {0: 0.0002653499871125589,\n",
       "  1: -0.0009113478392335262,\n",
       "  2: 0.821400707126061,\n",
       "  3: 0.7518447869606043},\n",
       " 'negative_likelihood_ratio': {0: 0.9993484650766541,\n",
       "  1: 1.0019622149761942,\n",
       "  2: 0.17393730303446414,\n",
       "  3: 0.1758082405591071},\n",
       " 'negative_predictive_value': {0: 0.7905494400643838,\n",
       "  1: 0.6859299208083438,\n",
       "  2: 0.9559192010278479,\n",
       "  3: 0.9256340671603936},\n",
       " 'overall_bias': {0: 2.3846799471158846,\n",
       "  1: 1.5915376007346653,\n",
       "  2: 0.9391040400889324,\n",
       "  3: 1.0201455583264367},\n",
       " 'positive_likelihood_ratio': {0: 1.0006524173526032,\n",
       "  1: 0.9980337819942947,\n",
       "  2: 29.008872264384337,\n",
       "  3: 10.119319690575539},\n",
       " 'positive_predictive_value': {0: 0.20966655142305102,\n",
       "  1: 0.3132243926287948,\n",
       "  2: 0.8849345910689522,\n",
       "  3: 0.8222003611567797},\n",
       " 'prevalence': {0: 0.2095584973500502,\n",
       "  1: 0.3136479272846437,\n",
       "  2: 0.2095584973500502,\n",
       "  3: 0.3136479272846437},\n",
       " 'prevalence_threshold': {0: 0.499918474423107,\n",
       "  1: 0.500246019173881,\n",
       "  2: 0.15659282786558001,\n",
       "  3: 0.23917220687599133},\n",
       " 'true_negative_rate': {0: 0.5003383671602035,\n",
       "  1: 0.5005094944382809,\n",
       "  2: 0.9713520180269946,\n",
       "  3: 0.9171126051813888},\n",
       " 'true_positive_rate': {0: 0.49998762075949116,\n",
       "  1: 0.4985083983360049,\n",
       "  2: 0.8310456496873004,\n",
       "  3: 0.838764046488481}}"
      ]
     },
     "execution_count": 75,
     "metadata": {},
     "output_type": "execute_result"
    }
   ],
   "source": [
    "ag, ctab, met = cda.gval.categorical_compare(benchmark_map=bda,\n",
    "                                             metrics=\"all\",\n",
    "                                             positive_categories=[2],\n",
    "                                             negative_categories=[0, 1],\n",
    "                                             subsampling_df=polygons_categorical,\n",
    "                                             subsampling_average=\"full-detail\")\n",
    "met.to_dict()"
   ]
  },
  {
   "cell_type": "markdown",
   "id": "74ac670d",
   "metadata": {},
   "source": [
    "#### Band"
   ]
  },
  {
   "cell_type": "code",
   "execution_count": 76,
   "id": "e938772b",
   "metadata": {},
   "outputs": [
    {
     "data": {
      "text/plain": [
       "{'subsample': {0: '1', 1: '2'},\n",
       " 'band': {0: 'averaged', 1: 'averaged'},\n",
       " 'fn': {0: 270197.0, 1: 241036.0},\n",
       " 'fp': {0: 804876.0, 1: 463507.0},\n",
       " 'tn': {0: 2242110.0, 1: 1128267.0},\n",
       " 'tp': {0: 537607.0, 1: 486370.0},\n",
       " 'accuracy': {0: 0.7211072457903025, 1: 0.6962102984675618},\n",
       " 'balanced_accuracy': {0: 0.7006809139084974, 1: 0.6887236361110389},\n",
       " 'critical_success_index': {0: 0.3333624773668676, 1: 0.4084009495236008},\n",
       " 'equitable_threat_score': {0: 0.19249486119104803, 1: 0.21102574698031598},\n",
       " 'f_score': {0: 0.5000327863210818, 1: 0.5799498355375926},\n",
       " 'false_discovery_rate': {0: 0.599542787506434, 1: 0.48796528392623467},\n",
       " 'false_negative_rate': {0: 0.33448336477660423, 1: 0.33136377758775704},\n",
       " 'false_omission_rate': {0: 0.10754935603013485, 1: 0.1760282421056552},\n",
       " 'false_positive_rate': {0: 0.26415480740640096, 1: 0.29118895019016516},\n",
       " 'fowlkes_mallows_index': {0: 0.5162469724944239, 1: 0.5851196102503213},\n",
       " 'matthews_correlation_coefficient': {0: 0.3428732020034822,\n",
       "  1: 0.35612459483756775},\n",
       " 'negative_likelihood_ratio': {0: 0.4545567031533717, 1: 0.46749239825854555},\n",
       " 'negative_predictive_value': {0: 0.8924506439698652, 1: 0.8239717578943447},\n",
       " 'overall_bias': {0: 1.6618919936024086, 1: 1.3058415795305511},\n",
       " 'positive_likelihood_ratio': {0: 2.5194189791878423, 1: 2.2962280058208955},\n",
       " 'positive_predictive_value': {0: 0.40045721249356603, 1: 0.5120347160737654},\n",
       " 'prevalence': {0: 0.2095584973500502, 1: 0.3136479272846437},\n",
       " 'prevalence_threshold': {0: 0.38650811907632576, 1: 0.39756199260694686},\n",
       " 'true_negative_rate': {0: 0.735845192593599, 1: 0.7088110498098348},\n",
       " 'true_positive_rate': {0: 0.6655166352233958, 1: 0.668636222412243}}"
      ]
     },
     "execution_count": 76,
     "metadata": {},
     "output_type": "execute_result"
    }
   ],
   "source": [
    "ag, ctab, met = cda.gval.categorical_compare(benchmark_map=bda,\n",
    "                                             metrics=\"all\",\n",
    "                                             positive_categories=[2],\n",
    "                                             negative_categories=[0, 1],\n",
    "                                             subsampling_df=polygons_categorical,\n",
    "                                             subsampling_average=\"band\")\n",
    "met.to_dict()"
   ]
  },
  {
   "cell_type": "markdown",
   "id": "709651f8",
   "metadata": {},
   "source": [
    "#### Subsample"
   ]
  },
  {
   "cell_type": "code",
   "execution_count": 77,
   "id": "c0673122",
   "metadata": {},
   "outputs": [
    {
     "data": {
      "text/plain": [
       "{'subsample': {0: 'averaged', 1: 'averaged'},\n",
       " 'band': {0: '1', 1: '2'},\n",
       " 'fn': {0: 384350.0, 1: 126883.0},\n",
       " 'fp': {0: 1158769.0, 1: 109614.0},\n",
       " 'tn': {0: 1160611.0, 1: 2209766.0},\n",
       " 'tp': {0: 383255.0, 1: 640722.0},\n",
       " 'accuracy': {0: 0.5001209918415541, 1: 0.9233890025380752},\n",
       " 'balanced_accuracy': {0: 0.4998419157037689, 1: 0.8937213503088111},\n",
       " 'critical_success_index': {0: 0.19895150162948627, 1: 0.7304014162939927},\n",
       " 'equitable_threat_score': {0: -0.00011818049725140345, 1: 0.6575691308727142},\n",
       " 'f_score': {0: 0.33187581208930095, 1: 0.8441988193216996},\n",
       " 'false_discovery_rate': {0: 0.7514597697571503, 1: 0.1460865532241556},\n",
       " 'false_negative_rate': {0: 0.5007132574696621, 1: 0.16529725575002768},\n",
       " 'false_omission_rate': {0: 0.2487765063325223, 1: 0.054301266471772185},\n",
       " 'false_positive_rate': {0: 0.4996029111228001, 1: 0.04726004363235002},\n",
       " 'fowlkes_mallows_index': {0: 0.35226813927134054, 1: 0.8442534556492796},\n",
       " 'matthews_correlation_coefficient': {0: -0.00027331863951123524,\n",
       "  1: 0.7935041113348965},\n",
       " 'negative_likelihood_ratio': {0: 1.000631835395309, 1: 0.17349671822333187},\n",
       " 'negative_predictive_value': {0: 0.7512234936674776, 1: 0.9456987335282279},\n",
       " 'overall_bias': {0: 2.0088769614580415, 1: 0.9775027520664925},\n",
       " 'positive_likelihood_ratio': {0: 0.9993671602278065, 1: 17.661912264478087},\n",
       " 'positive_predictive_value': {0: 0.24854023024284966, 1: 0.8539134467758445},\n",
       " 'prevalence': {0: 0.2486584806858472, 1: 0.2486584806858472},\n",
       " 'prevalence_threshold': {0: 0.5000791300118148, 1: 0.19221129858834987},\n",
       " 'true_negative_rate': {0: 0.5003970888771999, 1: 0.95273995636765},\n",
       " 'true_positive_rate': {0: 0.4992867425303379, 1: 0.8347027442499723}}"
      ]
     },
     "execution_count": 77,
     "metadata": {},
     "output_type": "execute_result"
    }
   ],
   "source": [
    "ag, ctab, met = cda.gval.categorical_compare(benchmark_map=bda,\n",
    "                                             metrics=\"all\",\n",
    "                                             positive_categories=[2],\n",
    "                                             negative_categories=[0, 1],\n",
    "                                             subsampling_df=polygons_categorical,\n",
    "                                             subsampling_average=\"subsample\")\n",
    "met.to_dict()"
   ]
  },
  {
   "cell_type": "code",
   "execution_count": 14,
   "id": "6f269255",
   "metadata": {},
   "outputs": [
    {
     "name": "stdout",
     "output_type": "stream",
     "text": [
      "time.struct_time(tm_year=2023, tm_mon=9, tm_mday=19, tm_hour=16, tm_min=53, tm_sec=21, tm_wday=1, tm_yday=262, tm_isdst=1)\n"
     ]
    }
   ],
   "source": [
    "print(time.localtime())"
   ]
  }
 ],
 "metadata": {
  "kernelspec": {
   "display_name": "Python 3 (ipykernel)",
   "language": "python",
   "name": "python3"
  },
  "language_info": {
   "codemirror_mode": {
    "name": "ipython",
    "version": 3
   },
   "file_extension": ".py",
   "mimetype": "text/x-python",
   "name": "python",
   "nbconvert_exporter": "python",
   "pygments_lexer": "ipython3",
   "version": "3.10.10"
  }
 },
 "nbformat": 4,
 "nbformat_minor": 5
}
